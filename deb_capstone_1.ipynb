# -*- coding: utf-8 -*-
"""
Created on Sat Sep 15 23:37:57 2018

@author: Debyajit Majumder
"""

print('hello world')